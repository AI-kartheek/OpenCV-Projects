{
 "cells": [
  {
   "cell_type": "code",
   "execution_count": 1,
   "metadata": {},
   "outputs": [],
   "source": [
    "import cv2\n",
    "import numpy as np"
   ]
  },
  {
   "cell_type": "markdown",
   "metadata": {},
   "source": [
    "**print All Events**"
   ]
  },
  {
   "cell_type": "code",
   "execution_count": 2,
   "metadata": {},
   "outputs": [
    {
     "name": "stdout",
     "output_type": "stream",
     "text": [
      "['EVENT_FLAG_ALTKEY', 'EVENT_FLAG_CTRLKEY', 'EVENT_FLAG_LBUTTON', 'EVENT_FLAG_MBUTTON', 'EVENT_FLAG_RBUTTON', 'EVENT_FLAG_SHIFTKEY', 'EVENT_LBUTTONDBLCLK', 'EVENT_LBUTTONDOWN', 'EVENT_LBUTTONUP', 'EVENT_MBUTTONDBLCLK', 'EVENT_MBUTTONDOWN', 'EVENT_MBUTTONUP', 'EVENT_MOUSEHWHEEL', 'EVENT_MOUSEMOVE', 'EVENT_MOUSEWHEEL', 'EVENT_RBUTTONDBLCLK', 'EVENT_RBUTTONDOWN', 'EVENT_RBUTTONUP']\n"
     ]
    }
   ],
   "source": [
    "events = [i for i in dir(cv2) if 'EVENT' in i]\n",
    "print(events)"
   ]
  },
  {
   "cell_type": "markdown",
   "metadata": {},
   "source": [
    "### Project-1"
   ]
  },
  {
   "cell_type": "markdown",
   "metadata": {},
   "source": [
    "Below code describes that when we press the **right button** with mouse on Image it prints the ``RGB`` Channels at that point, also it prints the ``coordinates`` of an image at that point when we ckick **Left Button**"
   ]
  },
  {
   "cell_type": "code",
   "execution_count": 2,
   "metadata": {},
   "outputs": [],
   "source": [
    "def click_event(event, x, y, flags, params):\n",
    "    if(event == cv2.EVENT_LBUTTONDOWN):\n",
    "        print(x,', ', y)\n",
    "        font = cv2.FONT_HERSHEY_SIMPLEX\n",
    "        strXY = str(x)+', '+ str(y)\n",
    "        cv2.putText(img, strXY, (x,y), font, 0.5, (225, 255, 0), thickness=2)\n",
    "        cv2.imshow('Image', img)\n",
    "        \n",
    "    if(event == cv2.EVENT_RBUTTONDOWN):\n",
    "        blue = img[y, x, 0]\n",
    "        green = img[y, x, 1]\n",
    "        red = img[y, x, 2]\n",
    "        font = cv2.FONT_HERSHEY_SIMPLEX\n",
    "        strBGR = str(blue)+', '+ str(green)+', ' + str(red)\n",
    "        cv2.putText(img, strBGR, (x,y), font, 0.5, (0,255, 255), thickness=2)\n",
    "        cv2.imshow('Image', img)"
   ]
  },
  {
   "cell_type": "code",
   "execution_count": 3,
   "metadata": {
    "scrolled": true
   },
   "outputs": [
    {
     "name": "stdout",
     "output_type": "stream",
     "text": [
      "73 ,  86\n",
      "35 ,  511\n",
      "519 ,  519\n",
      "489 ,  71\n",
      "298 ,  39\n"
     ]
    }
   ],
   "source": [
    "img = cv2.imread('Images/sudoku.png')\n",
    "cv2.imshow('Image', img)\n",
    "\n",
    "cv2.setMouseCallback('Image', click_event)\n",
    "cv2.waitKey(0)\n",
    "cv2.destroyAllWindows()"
   ]
  },
  {
   "cell_type": "markdown",
   "metadata": {},
   "source": [
    "### Project-2\n",
    "* Below code illustrates that When we click **Left Mouse** Button for > 2 times then we have to ``join`` Both ``points``."
   ]
  },
  {
   "cell_type": "code",
   "execution_count": 16,
   "metadata": {},
   "outputs": [],
   "source": [
    "def click_event(event, x, y, flags, params):\n",
    "    if(event == cv2.EVENT_LBUTTONDOWN):\n",
    "        cv2.circle(img, (x,y), 3, (0, 0, 255), -1)\n",
    "        points.append((x,y))\n",
    "        if (len(points) >=2):\n",
    "            cv2.line(img, points[-1], points[-2], (255, 0, 0), thickness=5)\n",
    "        cv2.imshow('Image', img)"
   ]
  },
  {
   "cell_type": "code",
   "execution_count": 17,
   "metadata": {},
   "outputs": [],
   "source": [
    "img = np.zeros((512, 512, 3), np.uint8)\n",
    "cv2.imshow('Image', img)\n",
    "points= []\n",
    "cv2.setMouseCallback('Image', click_event)\n",
    "cv2.waitKey(0)\n",
    "cv2.destroyAllWindows()"
   ]
  },
  {
   "cell_type": "markdown",
   "metadata": {},
   "source": [
    "### Project-3\n",
    "* Below code illustrates that When we click **Left Mouse** Button at a point, then a ``new window`` popups showing **RGB** Colors at that point."
   ]
  },
  {
   "cell_type": "code",
   "execution_count": 2,
   "metadata": {},
   "outputs": [],
   "source": [
    "def click_event(event, x, y, flags, params):\n",
    "    if(event == cv2.EVENT_LBUTTONDOWN):\n",
    "        blue = img[y, x, 0]\n",
    "        green = img[y, x, 1]\n",
    "        red = img[y, x, 2]\n",
    "        cv2.circle(img, (x,y), 3, (0, 0, 255), -1)\n",
    "        mycolorImage = np.zeros((512, 512,3), np.uint8)\n",
    "        mycolorImage[:] = [blue, green, red]\n",
    "        \n",
    "        cv2.imshow('Color', mycolorImage)"
   ]
  },
  {
   "cell_type": "code",
   "execution_count": 3,
   "metadata": {},
   "outputs": [],
   "source": [
    "img = cv2.imread('Images/img_1.jpg')\n",
    "cv2.imshow('Image', img)\n",
    "\n",
    "cv2.setMouseCallback('Image', click_event)\n",
    "cv2.waitKey(0)\n",
    "cv2.destroyAllWindows()"
   ]
  },
  {
   "cell_type": "code",
   "execution_count": null,
   "metadata": {},
   "outputs": [],
   "source": []
  }
 ],
 "metadata": {
  "kernelspec": {
   "display_name": "Python 3",
   "language": "python",
   "name": "python3"
  },
  "language_info": {
   "codemirror_mode": {
    "name": "ipython",
    "version": 3
   },
   "file_extension": ".py",
   "mimetype": "text/x-python",
   "name": "python",
   "nbconvert_exporter": "python",
   "pygments_lexer": "ipython3",
   "version": "3.8.3"
  }
 },
 "nbformat": 4,
 "nbformat_minor": 4
}
