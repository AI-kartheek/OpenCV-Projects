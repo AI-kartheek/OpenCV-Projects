{
 "cells": [
  {
   "cell_type": "code",
   "execution_count": 1,
   "metadata": {},
   "outputs": [],
   "source": [
    "import cv2 \n",
    "import numpy as np"
   ]
  },
  {
   "cell_type": "code",
   "execution_count": 2,
   "metadata": {},
   "outputs": [],
   "source": [
    "def nothing(x):\n",
    "    pass"
   ]
  },
  {
   "cell_type": "markdown",
   "metadata": {},
   "source": [
    "### Custom color Tracking in Images\n",
    "* Here we track custom HSV color tracking in an **image** with TrackBar()"
   ]
  },
  {
   "cell_type": "code",
   "execution_count": 8,
   "metadata": {},
   "outputs": [],
   "source": [
    "cv2.namedWindow('Tracking')\n",
    "cv2.createTrackbar('LowerHue', 'Tracking', 0, 255, nothing)\n",
    "cv2.createTrackbar('LowerSaturation', 'Tracking', 0, 255, nothing)\n",
    "cv2.createTrackbar('LowerValue', 'Tracking', 0, 255, nothing)\n",
    "#3rd argument tells that default location of pointer, 4th argument is the range of the Trackbar\n",
    "\n",
    "cv2.createTrackbar('UpperHue', 'Tracking', 255, 255, nothing)\n",
    "cv2.createTrackbar('UpperSaturation', 'Tracking', 255, 255, nothing)\n",
    "cv2.createTrackbar('UpperValue', 'Tracking', 255, 255, nothing)\n",
    "\n",
    "while(1):\n",
    "    frame = cv2.imread('Images/smarties.png')\n",
    "    \n",
    "    #convert BGR Image to HSV\n",
    "    hsv = cv2.cvtColor(frame, cv2.COLOR_BGR2HSV)\n",
    "    \n",
    "    l_h = cv2.getTrackbarPos('LowerHue', 'Tracking')\n",
    "    l_s = cv2.getTrackbarPos('LowerSaturation', 'Tracking')\n",
    "    l_v = cv2.getTrackbarPos('LowerValue', 'Tracking')\n",
    "    \n",
    "    \n",
    "    u_h = cv2.getTrackbarPos('UpperHue', 'Tracking')\n",
    "    u_s = cv2.getTrackbarPos('UpperSaturation', 'Tracking')\n",
    "    u_v = cv2.getTrackbarPos('UpperValue', 'Tracking')\n",
    "    \n",
    "    l_b = np.array([l_h, l_s, l_v])\n",
    "    u_b = np.array([u_h, u_s, u_v])\n",
    "    \n",
    "    mask = cv2.inRange(hsv, l_b, u_b)  #it masks the values between lower Boundary and Upper Boundary.\n",
    "    res = cv2.bitwise_and(frame, frame, mask = mask)\n",
    "    \n",
    "    cv2.imshow('Frame', frame)\n",
    "    cv2.imshow('Mask', mask)\n",
    "    cv2.imshow('Result', res)\n",
    "    \n",
    "    if(cv2.waitKey(1) & 0xFF == 27):  #press escape to exit from image windows.\n",
    "        break\n",
    "        \n",
    "cv2.destroyAllWindows()"
   ]
  },
  {
   "cell_type": "markdown",
   "metadata": {},
   "source": [
    "### Custom Color Tracking in Videos\n",
    "* Here we track custom HSV color tracking in an **Video** with TrackBar()"
   ]
  },
  {
   "cell_type": "code",
   "execution_count": 17,
   "metadata": {},
   "outputs": [],
   "source": [
    "cap = cv2.VideoCapture(0)\n",
    "\n",
    "cv2.namedWindow('Tracking')\n",
    "cv2.createTrackbar('LowerHue', 'Tracking', 0, 255, nothing)\n",
    "cv2.createTrackbar('LowerSaturation', 'Tracking', 0, 255, nothing)\n",
    "cv2.createTrackbar('LowerValue', 'Tracking', 0, 255, nothing)\n",
    "#3rd argument tells that default location of pointer, 4th argument is the range of the Trackbar\n",
    "\n",
    "cv2.createTrackbar('UpperHue', 'Tracking', 255, 255, nothing)\n",
    "cv2.createTrackbar('UpperSaturation', 'Tracking', 255, 255, nothing)\n",
    "cv2.createTrackbar('UpperValue', 'Tracking', 255, 255, nothing)\n",
    "\n",
    "while(1):\n",
    "    ret, frame = cap.read()\n",
    "    \n",
    "    #conert BGR Image to HSV\n",
    "    hsv = cv2.cvtColor(frame, cv2.COLOR_BGR2HSV)\n",
    "    \n",
    "    l_h = cv2.getTrackbarPos('LowerHue', 'Tracking')\n",
    "    l_s = cv2.getTrackbarPos('LowerSaturation', 'Tracking')\n",
    "    l_v = cv2.getTrackbarPos('LowerValue', 'Tracking')\n",
    "    \n",
    "    \n",
    "    u_h = cv2.getTrackbarPos('UpperHue', 'Tracking')\n",
    "    u_s = cv2.getTrackbarPos('UpperSaturation', 'Tracking')\n",
    "    u_v = cv2.getTrackbarPos('UpperValue', 'Tracking')\n",
    "    \n",
    "    l_b = np.array([l_h, l_s, l_v])\n",
    "    u_b = np.array([u_h, u_s, u_v])\n",
    "    \n",
    "    mask = cv2.inRange(hsv, l_b, u_b)\n",
    "    res = cv2.bitwise_and(frame, frame, mask = mask)\n",
    "    \n",
    "    cv2.imshow('Frame', frame)\n",
    "    cv2.imshow('Mask', mask)\n",
    "    cv2.imshow('Result', res)\n",
    "    \n",
    "    if(cv2.waitKey(1) & 0xFF == 27):  #press escape to exit from image windows.\n",
    "        break\n",
    "        \n",
    "cap.release()        \n",
    "cv2.destroyAllWindows()"
   ]
  },
  {
   "cell_type": "code",
   "execution_count": null,
   "metadata": {},
   "outputs": [],
   "source": []
  }
 ],
 "metadata": {
  "kernelspec": {
   "display_name": "Python 3",
   "language": "python",
   "name": "python3"
  },
  "language_info": {
   "codemirror_mode": {
    "name": "ipython",
    "version": 3
   },
   "file_extension": ".py",
   "mimetype": "text/x-python",
   "name": "python",
   "nbconvert_exporter": "python",
   "pygments_lexer": "ipython3",
   "version": "3.8.5"
  }
 },
 "nbformat": 4,
 "nbformat_minor": 4
}
