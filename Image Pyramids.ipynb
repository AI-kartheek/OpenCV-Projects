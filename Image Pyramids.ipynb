{
 "cells": [
  {
   "cell_type": "markdown",
   "metadata": {},
   "source": [
    "## NOTE:: \n",
    "   we must resize the image into shape = **(512, 512)**"
   ]
  },
  {
   "cell_type": "code",
   "execution_count": 1,
   "metadata": {},
   "outputs": [],
   "source": [
    "%matplotlib inline\n",
    "import cv2\n",
    "import numpy as np\n",
    "import matplotlib.pyplot as plt"
   ]
  },
  {
   "cell_type": "code",
   "execution_count": 25,
   "metadata": {},
   "outputs": [],
   "source": [
    "img = cv2.imread('Images/messi5.jpg', 1)\n",
    "img = cv2.resize(img, (512, 512))\n",
    "layer = img.copy()\n",
    "gp = [layer]\n",
    "\n",
    "for i in range(6):\n",
    "    layer = cv2.pyrDown(layer)\n",
    "    gp.append(layer)\n",
    "    \n",
    "layer = gp[5]\n",
    "cv2.imshow('Upper Level Gaussian Pyramid', layer)\n",
    "\n",
    "lp = [layer]\n",
    "for i in range(5, 0, -1):\n",
    "    gausian_extended = cv2.pyrUp(gp[i])\n",
    "    laplacian = cv2.subtract(gp[i-1], gausian_extended)\n",
    "    cv2.imshow('Image'+str(i), laplacian)\n",
    "\n",
    "cv2.imshow('Original', img)\n",
    "cv2.waitKey(0)\n",
    "cv2.destroyAllWindows()"
   ]
  },
  {
   "cell_type": "code",
   "execution_count": 4,
   "metadata": {},
   "outputs": [
    {
     "data": {
      "text/plain": [
       "(512, 512, 3)"
      ]
     },
     "execution_count": 4,
     "metadata": {},
     "output_type": "execute_result"
    }
   ],
   "source": [
    "img.shape"
   ]
  },
  {
   "cell_type": "code",
   "execution_count": 23,
   "metadata": {},
   "outputs": [],
   "source": [
    "\n",
    "img = cv2.imread(r'C:\\Users\\91939\\Pictures\\Saved Pictures\\MyPhoto.jpg',1)\n",
    "img = cv2.resize(img, (512, 512))\n",
    "layer = img.copy()\n",
    "gp = [layer]\n",
    "\n",
    "for i in range(6):\n",
    "    layer = cv2.pyrDown(layer)\n",
    "    gp.append(layer)\n",
    "    \n",
    "layer = gp[5]\n",
    "cv2.imshow('Upper Level Gaussian Pyramid', layer)\n",
    "\n",
    "lp = [layer]\n",
    "for i in range(5, 0, -1):\n",
    "    gausian_extended = cv2.pyrUp(gp[i])\n",
    "    laplacian = cv2.subtract(gp[i-1], gausian_extended)\n",
    "    cv2.imshow('Image'+str(i), laplacian)\n",
    "\n",
    "cv2.imshow('Original', img)\n",
    "cv2.waitKey(0)\n",
    "cv2.destroyAllWindows()"
   ]
  },
  {
   "cell_type": "markdown",
   "metadata": {},
   "source": [
    "### Uses::\n",
    "1) Gaussian and Laplacian Pyramids are used to ``Image Blending`` and ``Reconstruction`` of the images."
   ]
  },
  {
   "cell_type": "markdown",
   "metadata": {},
   "source": [
    "### Image Blending and Reconstruction"
   ]
  },
  {
   "cell_type": "code",
   "execution_count": 22,
   "metadata": {},
   "outputs": [
    {
     "name": "stdout",
     "output_type": "stream",
     "text": [
      "Apple Shape = (512, 512, 3), Orange Shape = (512, 512, 3)\n"
     ]
    }
   ],
   "source": [
    "apple = cv2.imread('Images/apple.jpg',1)\n",
    "orange = cv2.imread('Images/orange.jpg',1)\n",
    "apple = cv2.resize(apple, (512, 512))\n",
    "orange = cv2.resize(orange, (512, 512))\n",
    "print(\"Apple Shape = {}, Orange Shape = {}\".format(apple.shape, orange.shape))\n",
    "\n",
    "apple_orange = np.hstack((apple[:, : 250], orange[:, 250:]))\n",
    "\n",
    "#generate Gaussian Pyramid for apple\n",
    "apple_copy = apple.copy()\n",
    "Gp_apple = [apple_copy]\n",
    "for i in range(6):\n",
    "    apple_copy = cv2.pyrDown(apple_copy)\n",
    "    Gp_apple.append(apple_copy)\n",
    "\n",
    "#generate Gaussian Pyramid for orange\n",
    "orange_copy = orange.copy()\n",
    "Gp_orange = [orange_copy]\n",
    "for i in range(6):\n",
    "    orange_copy = cv2.pyrDown(orange_copy)\n",
    "    Gp_orange.append(orange_copy)\n",
    "\n",
    "#generate laplacian Pyramid for Apple\n",
    "apple_copy = Gp_apple[5]\n",
    "Lp_apple = [apple_copy]\n",
    "for i in range(5, 0, -1):\n",
    "    gausian_extended = cv2.pyrUp(Gp_apple[i])\n",
    "    Laplacian = cv2.subtract(Gp_apple[i-1], gausian_extended)\n",
    "    Lp_apple.append(Laplacian)\n",
    "\n",
    "#generate laplacian Pyramid for Orange\n",
    "orange_copy = Gp_orange[5]\n",
    "Lp_orange = [orange_copy]\n",
    "for i in range(5, 0, -1):\n",
    "    gausian_extended = cv2.pyrUp(Gp_orange[i])\n",
    "    Laplacian = cv2.subtract(Gp_orange[i-1], gausian_extended)\n",
    "    Lp_orange.append(Laplacian)\n",
    "\n",
    "#join the left half of apple and right half of orange in each levels of Laplacian Pyramids\n",
    "apple_orange_pyramid = []\n",
    "n=0\n",
    "for apple_lap, orange_lap in zip(Lp_apple, Lp_orange):\n",
    "    n+=1\n",
    "    rows, cols, ch = apple_lap.shape\n",
    "    laplacian = np.hstack((apple_lap[:, : int(cols/2)], orange_lap[:, int(cols/2) :]))\n",
    "    apple_orange_pyramid.append(laplacian)\n",
    "    \n",
    "#Last Step is to reconstruct the image\n",
    "apple_orange_reconstruct = apple_orange_pyramid[0]\n",
    "for i in range(1, 6):\n",
    "    apple_orange_reconstruct = cv2.pyrUp(apple_orange_reconstruct)\n",
    "    apple_orange_reconstruct = cv2.add(apple_orange_pyramid[i], apple_orange_reconstruct)\n",
    "    \n",
    "cv2.imshow('Direct Connection', apple_orange)\n",
    "cv2.imshow('Apple', apple)\n",
    "cv2.imshow('Orange', orange)\n",
    "cv2.imshow('Pyramid Blending', apple_orange_reconstruct)\n",
    "cv2.waitKey(0)\n",
    "cv2.destroyAllWindows()"
   ]
  },
  {
   "cell_type": "code",
   "execution_count": null,
   "metadata": {},
   "outputs": [],
   "source": []
  }
 ],
 "metadata": {
  "kernelspec": {
   "display_name": "Python 3",
   "language": "python",
   "name": "python3"
  },
  "language_info": {
   "codemirror_mode": {
    "name": "ipython",
    "version": 3
   },
   "file_extension": ".py",
   "mimetype": "text/x-python",
   "name": "python",
   "nbconvert_exporter": "python",
   "pygments_lexer": "ipython3",
   "version": "3.8.3"
  }
 },
 "nbformat": 4,
 "nbformat_minor": 4
}
